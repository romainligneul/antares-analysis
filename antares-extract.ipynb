{
 "cells": [
  {
   "cell_type": "code",
   "execution_count": 2,
   "metadata": {},
   "outputs": [],
   "source": [
    "import pandas as pd\n",
    "import json\n",
    "import os\n",
    "import scipy.io as sio\n",
    "import csv\n",
    "import numpy as np\n",
    "import re"
   ]
  },
  {
   "cell_type": "code",
   "execution_count": 3,
   "metadata": {},
   "outputs": [],
   "source": [
    "# input data\n",
    "datapath='rawdata/'\n",
    "datafiles=os.listdir(datapath) "
   ]
  },
  {
   "cell_type": "code",
   "execution_count": 4,
   "metadata": {},
   "outputs": [
    {
     "name": "stdout",
     "output_type": "stream",
     "text": [
      "folder exists already\n",
      "pp001_EPHEX_1_2_mousedata_Mon Feb 13 2023 11_28_09 GMT+0100 (heure normale dΓÇÖEurope centrale).csv\n",
      "pp001_EPHEX_1_2_mousedata_Mon Feb 13 2023 11_28_09 GMT+0100 (heure normale dΓÇÖEurope centrale).csv\n",
      "pp001_EPHEX_2_1_mousedata_Fri Feb 17 2023 10_19_42 GMT+0100 (heure normale dΓÇÖEurope centrale).csv\n",
      "pp001_EPHEX_2_1_mousedata_Fri Feb 17 2023 10_19_42 GMT+0100 (heure normale dΓÇÖEurope centrale).csv\n",
      "pp001_EPHEX_4_2_maindata_Fri Apr 14 2023 11_27_37 GMT+0200.json\n",
      "pp002_EPHEX_1_2_maindata_Thu Feb 23 2023 11_59_33 GMT+0100 (heure normale dΓÇÖEurope centrale).csv\n",
      "pp002_EPHEX_1_2_maindata_Thu Feb 23 2023 11_59_33 GMT+0100 (heure normale dΓÇÖEurope centrale).csv\n",
      "pp002_EPHEX_2_1_mousedata_Mon Feb 27 2023 10_28_41 GMT+0100 (heure normale dΓÇÖEurope centrale).csv\n",
      "pp002_EPHEX_2_1_mousedata_Mon Feb 27 2023 10_28_41 GMT+0100 (heure normale dΓÇÖEurope centrale).csv\n",
      "pP002_EPHEX_4_2_maindata_Wed Apr 19 2023 10_20_44 GMT+0200 (heure dΓÇÖe╠üte╠ü dΓÇÖEurope centrale).json\n",
      "pp003_EPHEX_2_1_mousedata_Fri Mar 03 2023 11_02_57 GMT+0100 (heure normale dΓÇÖEurope centrale).csv\n",
      "pp003_EPHEX_2_1_mousedata_Fri Mar 03 2023 11_02_57 GMT+0100 (heure normale dΓÇÖEurope centrale).csv\n",
      "pp004_EPHEX_1_2_maindata_Mon Mar 06 2023 11_25_54 GMT+0100 (heure normale dΓÇÖEurope centrale).json\n",
      "pp005_EPHEX_1_2_maindata_Fri Mar 10 2023 12_56_19 GMT+0100 (heure normale dΓÇÖEurope centrale).json\n",
      "pp005_EPHEX_2_1_maindata_Mon Mar 13 2023 11_18_30 GMT+0100 (heure normale dΓÇÖEurope centrale).json\n",
      "pp006_EPHEX_1_2_maindata_Fri Mar 17 2023 12_49_18 GMT+0100 (heure normale dΓÇÖEurope centrale).json\n",
      "pp006_EPHEX_2_1_maindata_Mon Mar 20 2023 12_50_41 GMT+0100 (heure normale dΓÇÖEurope centrale).json\n",
      "pp008_EPHEX_1_2_maindata_Tue Mar 28 2023 11_07_37 GMT+0200 (heure dΓÇÖe╠üte╠ü dΓÇÖEurope centrale).json\n",
      "pp008_EPHEX_2_1_maindata_Fri Mar 31 2023 09_38_07 GMT+0200 (heure dΓÇÖe╠üte╠ü dΓÇÖEurope centrale).json\n"
     ]
    },
    {
     "name": "stdout",
     "output_type": "stream",
     "text": [
      "pP008_EPHEX_4_2_maindata_Tue May 30 2023 09_34_35 GMT+0200 (heure dΓÇÖe╠üte╠ü dΓÇÖEurope centrale).json\n",
      "pp009_EPHEX_1_2_maindata_Thu Mar 30 2023 12_03_26 GMT+0200 (heure dΓÇÖe╠üte╠ü dΓÇÖEurope centrale).json\n",
      "pp009_EPHEX_2_1_maindata_Mon Apr 03 2023 11_16_50 GMT+0200 (heure dΓÇÖe╠üte╠ü dΓÇÖEurope centrale).json\n",
      "pp009_EPHEX_2_1_maindata_Mon Apr 03 2023 11_16_50 GMT+0200 (heure dΓÇÖe╠üte╠ü dΓÇÖEurope centrale).json: mouse data impossible to read\n",
      "pP009_EPHEX_4_2_maindata_Tue May 30 2023 12_24_07 GMT+0200 (heure dΓÇÖe╠üte╠ü dΓÇÖEurope centrale).json\n",
      "pP010_EPHEX_1_2_maindata_Thu Apr 06 2023 12_11_59 GMT+0200 (heure dΓÇÖe╠üte╠ü dΓÇÖEurope centrale).json\n",
      "pP010_EPHEX_2_1_maindata_Tue Apr 11 2023 12_36_32 GMT+0200 (heure dΓÇÖe╠üte╠ü dΓÇÖEurope centrale).json\n"
     ]
    }
   ],
   "source": [
    "\n",
    "exportfolder='cleandata'\n",
    "try:\n",
    "    os.mkdir(exportfolder)\n",
    "except:\n",
    "    print('folder exists already')\n",
    "\n",
    "# loop over files\n",
    "f=0\n",
    "for datafile in datafiles:\n",
    "\n",
    "    strIndices=[]\n",
    "    for match in re.finditer('_', datafile):\n",
    "        strIndices.append(match.start())\n",
    "    \n",
    "    #print(datapath+datafile)\n",
    "    subject = int(datafile[2:strIndices[0]])\n",
    "\n",
    "    #print((datafile[strIndices[1]+1:strIndices[1]+2]))\n",
    "    visit =  int(datafile[strIndices[1]+1:strIndices[1]+2])\n",
    "\n",
    "    experiment=datafile[strIndices[0]+1:strIndices[1]]\n",
    "    if experiment!='EPHEX':\n",
    "        continue\n",
    "\n",
    "    print(datafile)\n",
    "\n",
    "    # preprocess the files\n",
    "    if (datafile[len(datafile)-3:len(datafile)]=='csv') | (datafile[len(datafile)-3:len(datafile)]=='txt'):\n",
    "        print(datafile)\n",
    "        df = pd.read_csv(datapath+datafile)\n",
    "    else:\n",
    "        with open(datapath+datafile, 'r') as file2open:\n",
    "            data = json.load(file2open)\n",
    "            maindata=data[0:len(data)-2]\n",
    "            try:\n",
    "                mouseraw=pd.read_json(data[len(data)-1])\n",
    "                mousedata=[]\n",
    "                for i, row in mouseraw.iterrows():\n",
    "                    mousedata.append(row['mousedata'])\n",
    "                mousedata=pd.DataFrame(mousedata)\n",
    "                mousedata.columns=['time','x', 'y', 'circleIn', 'polyIn', 'limit']\n",
    "            except:\n",
    "                print(datafile + ': mouse data impossible to read')\n",
    "            #df = pd.read_json(datapath+datafile)\n",
    "            file2open.close()\n",
    "    f=f+1\n",
    "    if f>50:\n",
    "        break"
   ]
  },
  {
   "cell_type": "code",
   "execution_count": 4,
   "metadata": {},
   "outputs": [],
   "source": [
    "datafile = 'pP015_EPHEX_2_1_maindata_Tue Apr 18 2023 11_21_36 GMT+0200 (heure dΓÇÖe╠üte╠ü dΓÇÖEurope centrale).json'\n",
    "with open(datapath+datafile, 'r') as file2open:\n",
    "        data = json.load(file2open)\n",
    "        maindata=data[0:len(data)-2]\n",
    "        try:\n",
    "            mouseraw=pd.read_json(data[len(data)-1])\n",
    "            mousedata=[]\n",
    "            for i, row in mouseraw.iterrows():\n",
    "                mousedata.append(row['mousedata'])\n",
    "            mousedata=pd.DataFrame(mousedata)\n",
    "            mousedata.columns=['time','x', 'y', 'circleIn', 'polyIn', 'limit']\n",
    "        except:\n",
    "            print(datafile + ': mouse data impossible to read')\n",
    "        #df = pd.read_json(datapath+datafile)\n",
    "        file2open.close()"
   ]
  }
 ],
 "metadata": {
  "kernelspec": {
   "display_name": "base",
   "language": "python",
   "name": "python3"
  },
  "language_info": {
   "codemirror_mode": {
    "name": "ipython",
    "version": 3
   },
   "file_extension": ".py",
   "mimetype": "text/x-python",
   "name": "python",
   "nbconvert_exporter": "python",
   "pygments_lexer": "ipython3",
   "version": "3.10.9"
  },
  "orig_nbformat": 4
 },
 "nbformat": 4,
 "nbformat_minor": 2
}
