{
 "cells": [
  {
   "cell_type": "code",
   "execution_count": 143,
   "metadata": {},
   "outputs": [],
   "source": [
    "import pandas as pd\n",
    "import json\n",
    "import os\n",
    "import scipy.io as sio\n",
    "import csv\n",
    "import numpy as np\n"
   ]
  },
  {
   "cell_type": "code",
   "execution_count": 146,
   "metadata": {},
   "outputs": [
    {
     "ename": "SyntaxError",
     "evalue": "invalid syntax (2397384797.py, line 8)",
     "output_type": "error",
     "traceback": [
      "\u001b[1;36m  File \u001b[1;32m\"C:\\Users\\Romain RC\\AppData\\Local\\Temp\\ipykernel_38076\\2397384797.py\"\u001b[1;36m, line \u001b[1;32m8\u001b[0m\n\u001b[1;33m    bigtrain=pd.DataFrame()\u001b[0m\n\u001b[1;37m    ^\u001b[0m\n\u001b[1;31mSyntaxError\u001b[0m\u001b[1;31m:\u001b[0m invalid syntax\n"
     ]
    }
   ],
   "source": [
    "# input data\n",
    "datapath='STROOPrawdata/'\n",
    "datafiles=os.listdir(datapath) \n",
    "exportfolder='STROOPcleandata'\n",
    "try:\n",
    "    os.mkdir(exportfolder)\n",
    "except:\n",
    "    print('folder exists already')\n",
    "\n",
    "# initialize variables\n",
    "bigtrain=pd.DataFrame()\n",
    "bigmain=pd.DataFrame()\n",
    "interference=[]\n",
    "\n",
    "# simple parameter for STROOP analysis\n",
    "prematureRT_cutoff=200 # must 0 or above (misses are coded as -1 in the rt column)\n",
    "na_rep='' # representation of missing data in the output csvs\n",
    "\n",
    "# loop over files\n",
    "for datafile in datafiles:\n",
    "\n",
    "    subject = int(datafile[2:5])\n",
    "    visit = int(datafile[13:14])\n",
    "\n",
    "    # preprocess the files\n",
    "    if datafile[len(datafile)-3:len(datafile)]=='csv':\n",
    "        df = pd.read_csv(datapath+datafile)\n",
    "    else:\n",
    "        df = pd.read_json(datapath+datafile)\n",
    "\n",
    "    fdf = df.filter(items=['trial_tag', 'trial_index', 'tnum', 'fixdur', 'string', 'color', 'congruent', 'rt', 'correct'])\n",
    "    fdf['subject'] = subject\n",
    "    fdf['visit'] = visit\n",
    "\n",
    "    # slice\n",
    "    train=fdf[fdf['trial_tag']=='STROOPtrain']\n",
    "    main=fdf[fdf['trial_tag']=='STROOPmain']\n",
    "    main=main.drop('trial_tag', axis=1)\n",
    "    train=train.drop('trial_tag', axis=1)\n",
    "\n",
    "    # concatenate in big matrices for subsequent analyses\n",
    "    bigmain=pd.concat([bigmain,main],axis=0)\n",
    "    bigtrain=pd.concat([bigtrain,train],axis=0)\n",
    "\n",
    "    # basic interference RT\n",
    "    meanRT = main[main[\"rt\"]>prematureRT_cutoff].groupby('congruent', as_index=False).rt.mean()\n",
    "    try:\n",
    "        rawInterference=meanRT.values[0][1]-meanRT.values[1][1]\n",
    "        normInterference=(meanRT.values[0][1]-meanRT.values[1][1])/meanRT.values[1][1]\n",
    "    except:\n",
    "        rawInterference=float('nan')\n",
    "        normInterference=float('nan')\n",
    "    \n",
    "    # interference RT in correct trials only\n",
    "    meanRT = main[(main[\"rt\"]>prematureRT_cutoff) & (main[\"correct\"]==1)].groupby('congruent', as_index=False).rt.mean()\n",
    "    try:\n",
    "        correctrawInterference=meanRT.values[0][1]-meanRT.values[1][1]\n",
    "        correctnormInterference=(meanRT.values[0][1]-meanRT.values[1][1])/meanRT.values[1][1]\n",
    "    except:\n",
    "        correctrawInterference=float('nan')\n",
    "        correctnormInterference=float('nan')\n",
    "\n",
    "    # interference RT in correct trials only\n",
    "    meanACC = main[(main[\"correct\"]>-1)].groupby('congruent', as_index=False).correct.mean()\n",
    "    try:\n",
    "        accInterference=meanACC.values[0][1]-meanACC.values[1][1]\n",
    "        accnormInterference=(meanACC.values[0][1]-meanACC.values[1][1])/meanACC.values[1][1]\n",
    "    except:\n",
    "        accrawInterference=float('nan')\n",
    "        accnormInterference=float('nan')\n",
    "\n",
    "    meanRT=main[main[\"rt\"]>0].rt.mean()\n",
    "    meanACC=float(pd.DataFrame(main[\"correct\"]==1).mean())\n",
    "    \n",
    "    interference.append([subject,visit, rawInterference, normInterference, correctrawInterference, correctnormInterference,accInterference, accnormInterference, meanACC, meanRT])\n",
    "\n",
    "\n",
    "outmat={}\n",
    "outmat['main']=bigmain.to_numpy()\n",
    "outmat['train']=bigtrain.to_numpy()\n",
    "\n",
    "# save big matrices to csv and matlab format\n",
    "sio.savemat(exportfolder+'/STROOPdata.mat',outmat)\n",
    "bigmain.to_csv(exportfolder+'/STROOPdata_main.csv', index=False, header=True, na_rep=na_rep)\n",
    "bigmain.to_csv(exportfolder+'/STROOPdata_train.csv', index=False, header=True, na_rep=na_rep)\n",
    "\n"
   ]
  },
  {
   "cell_type": "code",
   "execution_count": 145,
   "metadata": {},
   "outputs": [],
   "source": [
    "# field names\n",
    "fields = ['subject', 'visit', 'rawIntRT', 'normIntRT', 'rawIntRTcor', 'normIntRTcor', 'rawIntACC', 'normIntACC', 'ACC', 'RT']\n",
    " \n",
    "df = pd.DataFrame(interference)\n",
    "df.to_csv(exportfolder+'/STROOPsummarystatistics.csv', header=fields, index=False, na_rep=na_rep)\n",
    "\n",
    "\n",
    "#np.savetxt('STROOPsummarystatistics.csv',interference, delimiter=',')"
   ]
  }
 ],
 "metadata": {
  "kernelspec": {
   "display_name": "base",
   "language": "python",
   "name": "python3"
  },
  "language_info": {
   "codemirror_mode": {
    "name": "ipython",
    "version": 3
   },
   "file_extension": ".py",
   "mimetype": "text/x-python",
   "name": "python",
   "nbconvert_exporter": "python",
   "pygments_lexer": "ipython3",
   "version": "3.9.13"
  },
  "orig_nbformat": 4
 },
 "nbformat": 4,
 "nbformat_minor": 2
}
